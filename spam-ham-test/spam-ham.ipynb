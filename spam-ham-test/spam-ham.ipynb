{
 "cells": [
  {
   "cell_type": "code",
   "execution_count": 17,
   "metadata": {},
   "outputs": [],
   "source": [
    "from tensorflow.keras.preprocessing.text import Tokenizer\n",
    "from tensorflow.keras import models\n",
    "from tensorflow.keras import layers\n",
    "from numpy import zeros\n",
    "from random import shuffle\n",
    "from random import seed\n",
    "from matplotlib import pyplot"
   ]
  },
  {
   "cell_type": "code",
   "execution_count": 18,
   "metadata": {},
   "outputs": [],
   "source": [
    "def read_lines():\n",
    "    train_lines = []\n",
    "    test_lines = []\n",
    "    current_lines = []\n",
    "\n",
    "    with open('SpamDetectionData.txt') as f: \n",
    "        for line in f.readlines(): \n",
    "            if line.startswith('# Test data', 0):\n",
    "                train_lines = current_lines\n",
    "                current_lines = test_lines\n",
    "            elif line.startswith('#', 0):\n",
    "                '''\n",
    "                Ignore comment lines\n",
    "                '''\n",
    "            elif line == '\\n':\n",
    "                '''\n",
    "                Ignore empty lines\n",
    "                '''\n",
    "            else:\n",
    "                current_lines.append(line)\n",
    "\n",
    "    test_lines = current_lines\n",
    "    \n",
    "    seed(1337)\n",
    "    shuffle(train_lines)\n",
    "    shuffle(test_lines)\n",
    "\n",
    "    print('Read training lines: ', len(train_lines))\n",
    "    print('Read test lines: ', len(test_lines))\n",
    "\n",
    "    return train_lines, test_lines"
   ]
  },
  {
   "cell_type": "code",
   "execution_count": 19,
   "metadata": {},
   "outputs": [],
   "source": [
    "def split_lines(lines):\n",
    "    data = []\n",
    "    labels = []\n",
    "    maxtokens = 0\n",
    "    for line in lines:\n",
    "        label_part, data_part = line.replace('<p>','').replace('</p>','').replace('\\n', '').split(',')\n",
    "        data.append(data_part)\n",
    "        labels.append(label_part)\n",
    "        if (len(data_part)>maxtokens):\n",
    "            maxtokens=len(data_part)\n",
    "\n",
    "    print('maxlen ', maxtokens)\n",
    "\n",
    "    return data, labels"
   ]
  },
  {
   "cell_type": "code",
   "execution_count": 20,
   "metadata": {},
   "outputs": [],
   "source": [
    "def vectorize_sequences(sequences, dimension=4000):\n",
    "    results = zeros((len(sequences), dimension))\n",
    "    for i, sequence in enumerate(sequences):\n",
    "        results[i, sequence] = 1.\n",
    "    return results"
   ]
  },
  {
   "cell_type": "code",
   "execution_count": 21,
   "metadata": {},
   "outputs": [],
   "source": [
    "def vectorize_labels(labels):\n",
    "    results = zeros(len(labels))\n",
    "    for i, label in enumerate(labels):\n",
    "        if (label.lower() == 'spam'):\n",
    "            results[i] = 1\n",
    "    return results"
   ]
  },
  {
   "cell_type": "code",
   "execution_count": 22,
   "metadata": {},
   "outputs": [],
   "source": [
    "def test_predict(model, testtext, expected_label):\n",
    "    testtext_list = []\n",
    "    testtext_list.append(testtext)\n",
    "    testtext_sequence = tokenizer.texts_to_sequences(testtext_list)\n",
    "    x_testtext = vectorize_sequences(testtext_sequence)\n",
    "    prediction = model.predict(x_testtext)[0][0]\n",
    "    \n",
    "    print(\"Sentiment: %.3f\" % prediction, 'Expected ', expected_label)\n",
    "\n",
    "    if prediction > 0.5:\n",
    "        if expected_label == 'Spam':\n",
    "            return True\n",
    "    else:\n",
    "        if expected_label == 'Ham':\n",
    "            return True\n",
    "    \n",
    "    return False\n"
   ]
  },
  {
   "cell_type": "code",
   "execution_count": 23,
   "metadata": {},
   "outputs": [
    {
     "name": "stdout",
     "output_type": "stream",
     "text": [
      "Read training lines:  2000\n",
      "Read test lines:  100\n",
      "maxlen  3691\n",
      "maxlen  3244\n"
     ]
    }
   ],
   "source": [
    "# Start script\n",
    "\n",
    "# First split train lines from test lines\n",
    "train_lines, test_lines = read_lines()\n",
    "\n",
    "# Split data from label for each line\n",
    "train_data_raw, train_labels_raw = split_lines(train_lines)\n",
    "test_data_raw, test_labels_raw = split_lines(test_lines)"
   ]
  },
  {
   "cell_type": "code",
   "execution_count": 24,
   "metadata": {},
   "outputs": [],
   "source": [
    "tokenizer = Tokenizer()\n",
    "tokenizer.fit_on_texts(train_data_raw)\n",
    "train_data_seq = tokenizer.texts_to_sequences(train_data_raw)\n",
    "test_data_seq = tokenizer.texts_to_sequences(test_data_raw)"
   ]
  },
  {
   "cell_type": "code",
   "execution_count": 25,
   "metadata": {},
   "outputs": [
    {
     "name": "stdout",
     "output_type": "stream",
     "text": [
      "Lines of training data:  2000\n",
      "Lines of test data:  100\n"
     ]
    }
   ],
   "source": [
    "x_train = vectorize_sequences(train_data_seq, 4000)\n",
    "print('Lines of training data: ', len(x_train))\n",
    "x_test = vectorize_sequences(test_data_seq, 4000)\n",
    "print('Lines of test data: ', len(x_test))"
   ]
  },
  {
   "cell_type": "code",
   "execution_count": 39,
   "metadata": {},
   "outputs": [
    {
     "name": "stdout",
     "output_type": "stream",
     "text": [
      "Lines of training results:  2000\n",
      "Lines of test results:  100\n"
     ]
    }
   ],
   "source": [
    "y_train = vectorize_labels(train_labels_raw)\n",
    "print('Lines of training results: ', len(y_train))\n",
    "y_test = vectorize_labels(test_labels_raw)\n",
    "print('Lines of test results: ', len(y_test))"
   ]
  },
  {
   "cell_type": "code",
   "execution_count": 40,
   "metadata": {},
   "outputs": [
    {
     "name": "stdout",
     "output_type": "stream",
     "text": [
      "Train on 1000 samples, validate on 1000 samples\n",
      "Epoch 1/8\n",
      "1000/1000 [==============================] - 1s 933us/sample - loss: 0.3200 - accuracy: 0.9520 - val_loss: 0.1637 - val_accuracy: 1.0000\n",
      "Epoch 2/8\n",
      "1000/1000 [==============================] - 0s 217us/sample - loss: 0.1253 - accuracy: 1.0000 - val_loss: 0.0854 - val_accuracy: 1.0000\n",
      "Epoch 3/8\n",
      "1000/1000 [==============================] - 0s 226us/sample - loss: 0.0689 - accuracy: 1.0000 - val_loss: 0.0496 - val_accuracy: 1.0000\n",
      "Epoch 4/8\n",
      "1000/1000 [==============================] - 0s 242us/sample - loss: 0.0408 - accuracy: 1.0000 - val_loss: 0.0303 - val_accuracy: 1.0000\n",
      "Epoch 5/8\n",
      "1000/1000 [==============================] - 0s 233us/sample - loss: 0.0250 - accuracy: 1.0000 - val_loss: 0.0190 - val_accuracy: 1.0000\n",
      "Epoch 6/8\n",
      "1000/1000 [==============================] - 0s 143us/sample - loss: 0.0156 - accuracy: 1.0000 - val_loss: 0.0121 - val_accuracy: 1.0000\n",
      "Epoch 7/8\n",
      "1000/1000 [==============================] - 0s 208us/sample - loss: 0.0099 - accuracy: 1.0000 - val_loss: 0.0080 - val_accuracy: 1.0000\n",
      "Epoch 8/8\n",
      "1000/1000 [==============================] - 0s 326us/sample - loss: 0.0063 - accuracy: 1.0000 - val_loss: 0.0052 - val_accuracy: 1.0000\n"
     ]
    }
   ],
   "source": [
    "# Now we build the Keras model\n",
    "model = models.Sequential()\n",
    "model.add(layers.Dense(8, activation='relu', input_shape=(4000,)))\n",
    "model.add(layers.Dense(8, activation='relu'))\n",
    "model.add(layers.Dense(1, activation='sigmoid'))\n",
    "model.compile(optimizer='rmsprop',loss='binary_crossentropy',metrics=['accuracy'])\n",
    "\n",
    "history = model.fit(x_train,y_train,epochs=8,batch_size=100,validation_split=0.5)"
   ]
  },
  {
   "cell_type": "code",
   "execution_count": 41,
   "metadata": {},
   "outputs": [],
   "source": [
    "epochs=range(1, 9)\n",
    "history_dict = history.history"
   ]
  },
  {
   "cell_type": "code",
   "execution_count": 42,
   "metadata": {},
   "outputs": [
    {
     "name": "stdout",
     "output_type": "stream",
     "text": [
      "{'loss': [0.32000109553337097, 0.12533929347991943, 0.06893391646444798, 0.040773314982652666, 0.024975092895329, 0.015582885500043631, 0.009862312860786916, 0.0063301603309810165], 'accuracy': [0.952, 1.0, 1.0, 1.0, 1.0, 1.0, 1.0, 1.0], 'val_loss': [0.16374891251325607, 0.08540544062852859, 0.0496359720826149, 0.0302542045712471, 0.019007836002856493, 0.012143534887582064, 0.00795079288072884, 0.005241218907758594], 'val_accuracy': [1.0, 1.0, 1.0, 1.0, 1.0, 1.0, 1.0, 1.0]}\n"
     ]
    }
   ],
   "source": [
    "print(history.history)"
   ]
  },
  {
   "cell_type": "code",
   "execution_count": 43,
   "metadata": {},
   "outputs": [
    {
     "data": {
      "image/png": "[encoded data removed]",
      "text/plain": [
       "<Figure size 432x288 with 1 Axes>"
      ]
     },
     "metadata": {
      "needs_background": "light"
     },
     "output_type": "display_data"
    }
   ],
   "source": [
    "# summarize history for accuracy\n",
    "pyplot.plot(history.history['accuracy'])\n",
    "pyplot.plot(history.history['val_accuracy'])\n",
    "pyplot.title('model accuracy')\n",
    "pyplot.ylabel('accuracy')\n",
    "pyplot.xlabel('epoch')\n",
    "pyplot.legend(['training', 'validation'], loc='lower right')\n",
    "pyplot.show()"
   ]
  },
  {
   "cell_type": "code",
   "execution_count": 44,
   "metadata": {},
   "outputs": [
    {
     "data": {
      "image/png": "[encoded data removed]",
      "text/plain": [
       "<Figure size 432x288 with 1 Axes>"
      ]
     },
     "metadata": {
      "needs_background": "light"
     },
     "output_type": "display_data"
    }
   ],
   "source": [
    "pyplot.clf()\n",
    "acc_values = history_dict['accuracy']\n",
    "val_acc_values = history_dict['val_accuracy']\n",
    "pyplot.plot(epochs, acc_values, 'bo', label='Training acc')\n",
    "pyplot.plot(epochs, val_acc_values, 'b', label='Validation acc')\n",
    "pyplot.title('Training and validation accuracy')\n",
    "pyplot.xlabel('Epochs')\n",
    "pyplot.ylabel('Loss')\n",
    "pyplot.legend()\n",
    "pyplot.show()"
   ]
  },
  {
   "cell_type": "code",
   "execution_count": 45,
   "metadata": {},
   "outputs": [
    {
     "data": {
      "image/png": "[encoded data removed]",
      "text/plain": [
       "<Figure size 432x288 with 1 Axes>"
      ]
     },
     "metadata": {
      "needs_background": "light"
     },
     "output_type": "display_data"
    }
   ],
   "source": [
    "# summarize history for loss\n",
    "pyplot.plot(history.history['loss'])\n",
    "pyplot.plot(history.history['val_loss'])\n",
    "pyplot.title('model loss')\n",
    "pyplot.ylabel('loss')\n",
    "pyplot.xlabel('epoch')\n",
    "pyplot.legend(['training', 'validation'], loc='upper right')\n",
    "pyplot.show()"
   ]
  },
  {
   "cell_type": "code",
   "execution_count": 46,
   "metadata": {},
   "outputs": [
    {
     "name": "stdout",
     "output_type": "stream",
     "text": [
      "dict_keys(['loss', 'accuracy', 'val_loss', 'val_accuracy'])\n"
     ]
    }
   ],
   "source": [
    "# list all data in history\n",
    "print(history.history.keys())"
   ]
  },
  {
   "cell_type": "code",
   "execution_count": 47,
   "metadata": {},
   "outputs": [
    {
     "data": {
      "image/png": "[encoded data removed]",
      "text/plain": [
       "<Figure size 432x288 with 1 Axes>"
      ]
     },
     "metadata": {
      "needs_background": "light"
     },
     "output_type": "display_data"
    }
   ],
   "source": [
    "loss_values = history_dict['loss']\n",
    "val_loss_values = history_dict['val_loss']\n",
    "pyplot.plot(epochs, loss_values, 'bo', label='Training loss')\n",
    "pyplot.plot(epochs, val_loss_values, 'b', label='Validation loss')\n",
    "pyplot.title('Training and validation loss')\n",
    "pyplot.xlabel('Epochs')\n",
    "pyplot.ylabel('Loss')\n",
    "pyplot.legend()\n",
    "pyplot.show()"
   ]
  },
  {
   "cell_type": "code",
   "execution_count": 48,
   "metadata": {},
   "outputs": [
    {
     "name": "stdout",
     "output_type": "stream",
     "text": [
      "100/1 [========================================================================================================================================================================================================================================================================================================================================================================================================================================================================================================================================================================================================================================================================================================================================================================================================================================================================================================================================================================================================================================================================================================================================================================================================================================================================================================================================================================================================================================================================================================================================================================================================================================================================================================================================================================================================================================================================================================================================================================================================================================================================================================================================================================================================================================================================================================================================================================================================================================================================================================================================================================================================================================================================================================================================================================================================================================================================================================================================================================================================================================================================================================================] - 0s 1ms/sample - loss: 6.9725e-04 - accuracy: 1.0000\n",
      "['loss', 'accuracy']\n",
      "Test result:  [0.0009012884506955743, 1.0]\n"
     ]
    }
   ],
   "source": [
    "results = model.evaluate(x_test, y_test)\n",
    "print(model.metrics_names)\n",
    "print('Test result: ', results)"
   ]
  },
  {
   "cell_type": "code",
   "execution_count": 49,
   "metadata": {},
   "outputs": [
    {
     "name": "stdout",
     "output_type": "stream",
     "text": [
      "Sentiment: 0.000 Expected  Ham\n",
      "Sentiment: 1.000 Expected  Spam\n",
      "Sentiment: 0.001 Expected  Ham\n",
      "Sentiment: 0.999 Expected  Spam\n",
      "Sentiment: 1.000 Expected  Spam\n",
      "Sentiment: 0.999 Expected  Spam\n",
      "Sentiment: 0.000 Expected  Ham\n",
      "Sentiment: 0.000 Expected  Ham\n",
      "Sentiment: 0.000 Expected  Ham\n",
      "Sentiment: 0.000 Expected  Ham\n",
      "Sentiment: 1.000 Expected  Spam\n",
      "Sentiment: 0.999 Expected  Spam\n",
      "Sentiment: 0.000 Expected  Ham\n",
      "Sentiment: 1.000 Expected  Spam\n",
      "Sentiment: 0.999 Expected  Spam\n",
      "Sentiment: 1.000 Expected  Spam\n",
      "Sentiment: 0.999 Expected  Spam\n",
      "Sentiment: 0.999 Expected  Spam\n",
      "Sentiment: 0.997 Expected  Spam\n",
      "Sentiment: 0.999 Expected  Spam\n",
      "Sentiment: 0.000 Expected  Ham\n",
      "Sentiment: 0.000 Expected  Ham\n",
      "Sentiment: 0.002 Expected  Ham\n",
      "Sentiment: 0.000 Expected  Ham\n",
      "Sentiment: 0.000 Expected  Ham\n",
      "Sentiment: 0.004 Expected  Ham\n",
      "Sentiment: 0.000 Expected  Ham\n",
      "Sentiment: 0.000 Expected  Ham\n",
      "Sentiment: 0.003 Expected  Ham\n",
      "Sentiment: 0.998 Expected  Spam\n",
      "Sentiment: 0.000 Expected  Ham\n",
      "Sentiment: 1.000 Expected  Spam\n",
      "Sentiment: 1.000 Expected  Spam\n",
      "Sentiment: 0.994 Expected  Spam\n",
      "Sentiment: 0.001 Expected  Ham\n",
      "Sentiment: 0.000 Expected  Ham\n",
      "Sentiment: 0.000 Expected  Ham\n",
      "Sentiment: 0.000 Expected  Ham\n",
      "Sentiment: 0.000 Expected  Ham\n",
      "Sentiment: 0.998 Expected  Spam\n",
      "Sentiment: 0.000 Expected  Ham\n",
      "Sentiment: 0.000 Expected  Ham\n",
      "Sentiment: 0.999 Expected  Spam\n",
      "Sentiment: 0.000 Expected  Ham\n",
      "Sentiment: 1.000 Expected  Spam\n",
      "Sentiment: 1.000 Expected  Spam\n",
      "Sentiment: 0.000 Expected  Ham\n",
      "Sentiment: 0.999 Expected  Spam\n",
      "Sentiment: 0.999 Expected  Spam\n",
      "Sentiment: 0.000 Expected  Ham\n",
      "Sentiment: 0.002 Expected  Ham\n",
      "Sentiment: 0.000 Expected  Ham\n",
      "Sentiment: 0.000 Expected  Ham\n",
      "Sentiment: 0.000 Expected  Ham\n",
      "Sentiment: 0.998 Expected  Spam\n",
      "Sentiment: 1.000 Expected  Spam\n",
      "Sentiment: 0.001 Expected  Ham\n",
      "Sentiment: 0.000 Expected  Ham\n",
      "Sentiment: 0.000 Expected  Ham\n",
      "Sentiment: 0.998 Expected  Spam\n",
      "Sentiment: 0.001 Expected  Ham\n",
      "Sentiment: 0.998 Expected  Spam\n",
      "Sentiment: 0.000 Expected  Ham\n",
      "Sentiment: 0.000 Expected  Ham\n",
      "Sentiment: 0.002 Expected  Ham\n",
      "Sentiment: 0.000 Expected  Ham\n",
      "Sentiment: 0.000 Expected  Ham\n",
      "Sentiment: 0.999 Expected  Spam\n",
      "Sentiment: 0.000 Expected  Ham\n",
      "Sentiment: 0.999 Expected  Spam\n",
      "Sentiment: 0.001 Expected  Ham\n",
      "Sentiment: 0.006 Expected  Ham\n",
      "Sentiment: 0.001 Expected  Ham\n",
      "Sentiment: 0.000 Expected  Ham\n",
      "Sentiment: 0.000 Expected  Ham\n",
      "Sentiment: 0.999 Expected  Spam\n",
      "Sentiment: 0.996 Expected  Spam\n",
      "Sentiment: 0.000 Expected  Ham\n",
      "Sentiment: 0.997 Expected  Spam\n",
      "Sentiment: 0.000 Expected  Ham\n",
      "Sentiment: 0.000 Expected  Ham\n",
      "Sentiment: 0.000 Expected  Ham\n",
      "Sentiment: 0.000 Expected  Ham\n",
      "Sentiment: 0.999 Expected  Spam\n",
      "Sentiment: 0.000 Expected  Ham\n",
      "Sentiment: 0.999 Expected  Spam\n",
      "Sentiment: 0.990 Expected  Spam\n",
      "Sentiment: 0.000 Expected  Ham\n",
      "Sentiment: 0.000 Expected  Ham\n",
      "Sentiment: 0.997 Expected  Spam\n",
      "Sentiment: 0.001 Expected  Ham\n",
      "Sentiment: 1.000 Expected  Spam\n",
      "Sentiment: 0.000 Expected  Ham\n",
      "Sentiment: 0.999 Expected  Spam\n",
      "Sentiment: 1.000 Expected  Spam\n",
      "Sentiment: 0.999 Expected  Spam\n",
      "Sentiment: 0.999 Expected  Spam\n",
      "Sentiment: 0.000 Expected  Ham\n",
      "Sentiment: 0.999 Expected  Spam\n",
      "Sentiment: 1.000 Expected  Spam\n",
      "Predictions correct  100 , wrong  0\n"
     ]
    }
   ],
   "source": [
    "# Manual test over all test records\n",
    "correct = 0\n",
    "wrong = 0\n",
    "for input_text, expected_label in zip(test_data_raw, test_labels_raw):\n",
    "    if test_predict(model, input_text, expected_label):\n",
    "        correct = correct + 1\n",
    "    else:\n",
    "        wrong = wrong + 1\n",
    "\n",
    "print('Predictions correct ', correct, ', wrong ', wrong)"
   ]
  },
  {
   "cell_type": "code",
   "execution_count": null,
   "metadata": {},
   "outputs": [],
   "source": []
  }
 ],
 "metadata": {
  "file_extension": ".py",
  "kernelspec": {
   "display_name": "Python 3",
   "language": "python",
   "name": "python3"
  },
  "language_info": {
   "codemirror_mode": {
    "name": "ipython",
    "version": 3
   },
   "file_extension": ".py",
   "mimetype": "text/x-python",
   "name": "python",
   "nbconvert_exporter": "python",
   "pygments_lexer": "ipython3",
   "version": "3.7.3"
  },
  "mimetype": "text/x-python",
  "name": "python",
  "npconvert_exporter": "python",
  "pygments_lexer": "ipython3",
  "version": 3
 },
 "nbformat": 4,
 "nbformat_minor": 4
}
